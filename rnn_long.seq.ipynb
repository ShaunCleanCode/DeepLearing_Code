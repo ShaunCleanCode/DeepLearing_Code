{
 "cells": [
  {
   "cell_type": "code",
   "execution_count": null,
   "metadata": {},
   "outputs": [],
   "source": [
    "import tensorflow as tf \n",
    "import numpy as np\n",
    "\n",
    "#Reproducibility \n",
    "\n",
    "tf.random.set_seed(777)\n",
    "# Define characters from the quote without duplicates\n",
    "idx2char = sorted(set(\n",
    "    \"If you want to build a ship, don’t drum up people to collect wood and don’t assign them tasks and work, \"\n",
    "    \"but rather teach them to long for the endless immensity of the sea.\"\n",
    "))\n",
    "\n",
    "# Create a mapping from character to index\n",
    "char2idx = {ch: idx for idx, ch in enumerate(idx2char)}\n",
    "\n",
    "# Quote\n",
    "quote = \"If you want to build a ship, don’t drum up people to collect wood and don’t assign them tasks and work, but rather teach them to long for the endless immensity of the sea.\"\n",
    "\n",
    "# Prepare x_data and y_data based on the quote\n",
    "x_data = []\n",
    "y_data = []\n",
    "\n",
    "# Create training data by sliding window\n",
    "sequence_length = len(quote)-1  # Length of the input sequence\n",
    "for i in range(len(quote) - sequence_length):\n",
    "    x_seq = quote[i:i + sequence_length]\n",
    "    y_seq = quote[i + 1:i + sequence_length + 1]\n",
    "    \n",
    "    x_data.append([char2idx[ch] for ch in x_seq])  # Convert characters to indices\n",
    "    y_data.append([char2idx[ch] for ch in y_seq])  # Shifted sequence for targets\n"
   ]
  },
  {
   "cell_type": "code",
   "execution_count": null,
   "metadata": {},
   "outputs": [],
   "source": [
    "\n",
    "\n",
    "\n",
    "# Convert to numpy arrays\n",
    "x_data = np.array(x_data)\n",
    "y_data = np.array(y_data)\n",
    "\n",
    "num_classes = len(idx2char)  # Output unique chars based on idx2char\n",
    "input_dim = num_classes  # One-hot size\n",
    "hidden_size = 128  # LSTM output size\n",
    "batch_size = 1   # One sentence\n",
    "learning_rate = 0.1\n",
    "\n",
    "# Use tf.one_hot to create one-hot encoded input\n",
    "x_one_hot = tf.one_hot(x_data, depth=num_classes)\n"
   ]
  },
  {
   "cell_type": "code",
   "execution_count": null,
   "metadata": {},
   "outputs": [],
   "source": [
    "#Build the LSTM Model\n",
    "class LSTMModel(tf.keras.Model):\n",
    "    def __init__(self):\n",
    "        super(LSTMModel,self).__init__()\n",
    "        self.lstm=tf.keras.layers.LSTM(units=hidden_size,return_sequences=True)\n",
    "        self.fc =tf.keras.layers.Dense(units=num_classes)\n",
    "        \n",
    "    def call(self,x):\n",
    "        x=self.lstm(x)\n",
    "        x=self.fc(x)\n",
    "        x=tf.nn.softmax(x)\n",
    "        return x\n",
    "    "
   ]
  },
  {
   "cell_type": "code",
   "execution_count": null,
   "metadata": {},
   "outputs": [],
   "source": [
    "# Prepare data\n",
    "X = np.array(x_one_hot, dtype=np.float32)\n",
    "Y = np.array(y_data, dtype=np.int32)"
   ]
  },
  {
   "cell_type": "code",
   "execution_count": null,
   "metadata": {},
   "outputs": [],
   "source": [
    "\n",
    "# Create model\n",
    "model = LSTMModel()\n",
    "\n",
    "# Loss and optimizer\n",
    "loss_fn = tf.keras.losses.SparseCategoricalCrossentropy(from_logits=False)\n",
    "optimizer = tf.keras.optimizers.Adam(learning_rate=learning_rate)\n"
   ]
  },
  {
   "cell_type": "code",
   "execution_count": null,
   "metadata": {},
   "outputs": [],
   "source": [
    "# Training step\n",
    "def train_step(model, inputs, targets):\n",
    "    with tf.GradientTape() as tape:\n",
    "        predictions = model(inputs)\n",
    "        loss = loss_fn(targets, predictions)\n",
    "    gradients = tape.gradient(loss, model.trainable_variables)\n",
    "    optimizer.apply_gradients(zip(gradients, model.trainable_variables))\n",
    "    return loss, predictions\n",
    "\n",
    "# Training loop\n",
    "for epoch in range(100):\n",
    "    loss, predictions = train_step(model, X, Y)\n",
    "    predicted = tf.argmax(predictions, axis=2).numpy()\n",
    "\n",
    "    print(f\"Epoch {epoch}, Loss: {loss.numpy()}\")\n",
    "    print(f\"Prediction: {predicted}, True Y: {y_data}\")\n",
    "\n",
    "    # Convert prediction to characters\n",
    "    result_str = [idx2char[c] for c in predicted[0]]\n",
    "    print(\"\\tPrediction str: \", ''.join(result_str))    "
   ]
  }
 ],
 "metadata": {
  "language_info": {
   "name": "python"
  },
  "orig_nbformat": 4
 },
 "nbformat": 4,
 "nbformat_minor": 2
}
