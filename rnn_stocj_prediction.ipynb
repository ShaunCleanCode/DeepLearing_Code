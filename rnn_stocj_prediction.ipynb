{
 "cells": [
  {
   "cell_type": "code",
   "execution_count": 1,
   "metadata": {},
   "outputs": [],
   "source": [
    "import tensorflow as tf\n",
    "import numpy as np\n",
    "import matplotlib.pyplot as plt\n",
    "\n",
    "# 재현성을 위해 시드 설정\n",
    "tf.random.set_seed(777)\n",
    "\n",
    "# MinMaxScaler 함수 (정규화)\n",
    "def MinMaxScaler(data):\n",
    "    numerator = data - np.min(data, axis=0)\n",
    "    denominator = np.max(data, axis=0) - np.min(data, axis=0)\n",
    "    return numerator / (denominator + 1e-7)\n",
    "\n",
    "# 하이퍼파라미터\n",
    "seq_length = 7\n",
    "data_dim = 5\n",
    "hidden_dim = 10\n",
    "output_dim = 1\n",
    "learning_rate = 0.01\n",
    "iterations = 500"
   ]
  },
  {
   "cell_type": "code",
   "execution_count": 6,
   "metadata": {},
   "outputs": [],
   "source": [
    "\n",
    "# 데이터 로드 (Open, High, Low, Volume, Close)\n",
    "xy = np.loadtxt('data-02-stock_daily.csv', delimiter=',',skiprows=1)\n",
    "xy = xy[::-1]  # 시간 순서대로 정렬\n",
    "\n",
    "# train/test 데이터 나누기\n",
    "train_size = int(len(xy) * 0.7)\n",
    "train_set = xy[:train_size]\n",
    "test_set = xy[train_size - seq_length:]  # 과거 시퀀스를 고려해서 설정\n",
    "\n",
    "# 정규화\n",
    "train_set = MinMaxScaler(train_set)\n",
    "test_set = MinMaxScaler(test_set)\n",
    "\n",
    "# 데이터셋 구성 함수\n",
    "def build_dataset(time_series, seq_length):\n",
    "    dataX = []\n",
    "    dataY = []\n",
    "    for i in range(len(time_series) - seq_length):\n",
    "        _x = time_series[i:i + seq_length, :]  # 시퀀스\n",
    "        _y = time_series[i + seq_length, [-1]]  # 다음 Close 가격\n",
    "        dataX.append(_x)\n",
    "        dataY.append(_y)\n",
    "    return np.array(dataX), np.array(dataY)\n",
    "\n",
    "trainX, trainY = build_dataset(train_set, seq_length)\n",
    "testX, testY = build_dataset(test_set, seq_length)\n"
   ]
  },
  {
   "cell_type": "code",
   "execution_count": 12,
   "metadata": {},
   "outputs": [],
   "source": [
    "# 1.model class define\n",
    "class LSTMModel(tf.keras.Model):\n",
    "    def __init__(self):\n",
    "        super(LSTMModel,self).__init__()\n",
    "        self.lstm=tf.keras.layers.LSTM(units =hidden_dim,return_sequences=False,input_shape=(seq_length, data_dim))\n",
    "        self.fc=tf.keras.layers.Dense(units =output_dim)\n",
    "        \n",
    "    def call(self,x):\n",
    "        x= self.lstm(x)\n",
    "        x=self.fc(x)\n",
    "        return x\n",
    "    \n",
    "    "
   ]
  },
  {
   "cell_type": "code",
   "execution_count": 13,
   "metadata": {},
   "outputs": [
    {
     "name": "stdout",
     "output_type": "stream",
     "text": [
      "Epoch 1/500\n"
     ]
    },
    {
     "name": "stderr",
     "output_type": "stream",
     "text": [
      "/Users/onseonghyeon/miniforge3/envs/newenv/lib/python3.12/site-packages/keras/src/layers/rnn/rnn.py:204: UserWarning: Do not pass an `input_shape`/`input_dim` argument to a layer. When using Sequential models, prefer using an `Input(shape)` object as the first layer in the model instead.\n",
      "  super().__init__(**kwargs)\n"
     ]
    },
    {
     "name": "stdout",
     "output_type": "stream",
     "text": [
      "\u001b[1m 1/16\u001b[0m \u001b[32m━\u001b[0m\u001b[37m━━━━━━━━━━━━━━━━━━━\u001b[0m \u001b[1m9s\u001b[0m 621ms/step - loss: 0.0000e+00"
     ]
    },
    {
     "name": "stderr",
     "output_type": "stream",
     "text": [
      "2024-10-01 14:45:32.161587: W tensorflow/core/framework/op_kernel.cc:1840] OP_REQUIRES failed at sparse_xent_op.cc:103 : INVALID_ARGUMENT: Received a label value of 1 which is outside the valid range of [0, 1).  Label values: 1 0 0 0 0 0 0 0 0 0 0 0 0 0 0 0 0 0 0 0 0 0 0 0 0 0 0 0 0 0 0 0\n",
      "2024-10-01 14:45:32.161604: I tensorflow/core/framework/local_rendezvous.cc:404] Local rendezvous is aborting with status: INVALID_ARGUMENT: Received a label value of 1 which is outside the valid range of [0, 1).  Label values: 1 0 0 0 0 0 0 0 0 0 0 0 0 0 0 0 0 0 0 0 0 0 0 0 0 0 0 0 0 0 0 0\n",
      "\t [[{{function_node __inference_one_step_on_data_2705}}{{node compile_loss/sparse_categorical_crossentropy/SparseSoftmaxCrossEntropyWithLogits/SparseSoftmaxCrossEntropyWithLogits}}]]\n"
     ]
    },
    {
     "ename": "InvalidArgumentError",
     "evalue": "Graph execution error:\n\nDetected at node compile_loss/sparse_categorical_crossentropy/SparseSoftmaxCrossEntropyWithLogits/SparseSoftmaxCrossEntropyWithLogits defined at (most recent call last):\n  File \"<frozen runpy>\", line 198, in _run_module_as_main\n\n  File \"<frozen runpy>\", line 88, in _run_code\n\n  File \"/Users/onseonghyeon/miniforge3/envs/newenv/lib/python3.12/site-packages/ipykernel_launcher.py\", line 18, in <module>\n\n  File \"/Users/onseonghyeon/miniforge3/envs/newenv/lib/python3.12/site-packages/traitlets/config/application.py\", line 1075, in launch_instance\n\n  File \"/Users/onseonghyeon/miniforge3/envs/newenv/lib/python3.12/site-packages/ipykernel/kernelapp.py\", line 739, in start\n\n  File \"/Users/onseonghyeon/miniforge3/envs/newenv/lib/python3.12/site-packages/tornado/platform/asyncio.py\", line 205, in start\n\n  File \"/Users/onseonghyeon/miniforge3/envs/newenv/lib/python3.12/asyncio/base_events.py\", line 641, in run_forever\n\n  File \"/Users/onseonghyeon/miniforge3/envs/newenv/lib/python3.12/asyncio/base_events.py\", line 1986, in _run_once\n\n  File \"/Users/onseonghyeon/miniforge3/envs/newenv/lib/python3.12/asyncio/events.py\", line 88, in _run\n\n  File \"/Users/onseonghyeon/miniforge3/envs/newenv/lib/python3.12/site-packages/ipykernel/kernelbase.py\", line 545, in dispatch_queue\n\n  File \"/Users/onseonghyeon/miniforge3/envs/newenv/lib/python3.12/site-packages/ipykernel/kernelbase.py\", line 534, in process_one\n\n  File \"/Users/onseonghyeon/miniforge3/envs/newenv/lib/python3.12/site-packages/ipykernel/kernelbase.py\", line 437, in dispatch_shell\n\n  File \"/Users/onseonghyeon/miniforge3/envs/newenv/lib/python3.12/site-packages/ipykernel/ipkernel.py\", line 362, in execute_request\n\n  File \"/Users/onseonghyeon/miniforge3/envs/newenv/lib/python3.12/site-packages/ipykernel/kernelbase.py\", line 778, in execute_request\n\n  File \"/Users/onseonghyeon/miniforge3/envs/newenv/lib/python3.12/site-packages/ipykernel/ipkernel.py\", line 449, in do_execute\n\n  File \"/Users/onseonghyeon/miniforge3/envs/newenv/lib/python3.12/site-packages/ipykernel/zmqshell.py\", line 549, in run_cell\n\n  File \"/Users/onseonghyeon/miniforge3/envs/newenv/lib/python3.12/site-packages/IPython/core/interactiveshell.py\", line 3075, in run_cell\n\n  File \"/Users/onseonghyeon/miniforge3/envs/newenv/lib/python3.12/site-packages/IPython/core/interactiveshell.py\", line 3130, in _run_cell\n\n  File \"/Users/onseonghyeon/miniforge3/envs/newenv/lib/python3.12/site-packages/IPython/core/async_helpers.py\", line 128, in _pseudo_sync_runner\n\n  File \"/Users/onseonghyeon/miniforge3/envs/newenv/lib/python3.12/site-packages/IPython/core/interactiveshell.py\", line 3334, in run_cell_async\n\n  File \"/Users/onseonghyeon/miniforge3/envs/newenv/lib/python3.12/site-packages/IPython/core/interactiveshell.py\", line 3517, in run_ast_nodes\n\n  File \"/Users/onseonghyeon/miniforge3/envs/newenv/lib/python3.12/site-packages/IPython/core/interactiveshell.py\", line 3577, in run_code\n\n  File \"/var/folders/6g/96vfd2gn4vz3d6hbd_fqjqy80000gn/T/ipykernel_48452/3546216449.py\", line 11, in <module>\n\n  File \"/Users/onseonghyeon/miniforge3/envs/newenv/lib/python3.12/site-packages/keras/src/utils/traceback_utils.py\", line 117, in error_handler\n\n  File \"/Users/onseonghyeon/miniforge3/envs/newenv/lib/python3.12/site-packages/keras/src/backend/tensorflow/trainer.py\", line 320, in fit\n\n  File \"/Users/onseonghyeon/miniforge3/envs/newenv/lib/python3.12/site-packages/keras/src/backend/tensorflow/trainer.py\", line 121, in one_step_on_iterator\n\n  File \"/Users/onseonghyeon/miniforge3/envs/newenv/lib/python3.12/site-packages/keras/src/backend/tensorflow/trainer.py\", line 108, in one_step_on_data\n\n  File \"/Users/onseonghyeon/miniforge3/envs/newenv/lib/python3.12/site-packages/keras/src/backend/tensorflow/trainer.py\", line 54, in train_step\n\n  File \"/Users/onseonghyeon/miniforge3/envs/newenv/lib/python3.12/site-packages/keras/src/trainers/trainer.py\", line 359, in _compute_loss\n\n  File \"/Users/onseonghyeon/miniforge3/envs/newenv/lib/python3.12/site-packages/keras/src/trainers/trainer.py\", line 327, in compute_loss\n\n  File \"/Users/onseonghyeon/miniforge3/envs/newenv/lib/python3.12/site-packages/keras/src/trainers/compile_utils.py\", line 611, in __call__\n\n  File \"/Users/onseonghyeon/miniforge3/envs/newenv/lib/python3.12/site-packages/keras/src/trainers/compile_utils.py\", line 652, in call\n\n  File \"/Users/onseonghyeon/miniforge3/envs/newenv/lib/python3.12/site-packages/keras/src/losses/loss.py\", line 60, in __call__\n\n  File \"/Users/onseonghyeon/miniforge3/envs/newenv/lib/python3.12/site-packages/keras/src/losses/losses.py\", line 27, in call\n\n  File \"/Users/onseonghyeon/miniforge3/envs/newenv/lib/python3.12/site-packages/keras/src/losses/losses.py\", line 1870, in sparse_categorical_crossentropy\n\n  File \"/Users/onseonghyeon/miniforge3/envs/newenv/lib/python3.12/site-packages/keras/src/ops/nn.py\", line 1559, in sparse_categorical_crossentropy\n\n  File \"/Users/onseonghyeon/miniforge3/envs/newenv/lib/python3.12/site-packages/keras/src/backend/tensorflow/nn.py\", line 671, in sparse_categorical_crossentropy\n\nReceived a label value of 1 which is outside the valid range of [0, 1).  Label values: 1 0 0 0 0 0 0 0 0 0 0 0 0 0 0 0 0 0 0 0 0 0 0 0 0 0 0 0 0 0 0 0\n\t [[{{node compile_loss/sparse_categorical_crossentropy/SparseSoftmaxCrossEntropyWithLogits/SparseSoftmaxCrossEntropyWithLogits}}]] [Op:__inference_one_step_on_iterator_2746]",
     "output_type": "error",
     "traceback": [
      "\u001b[0;31m---------------------------------------------------------------------------\u001b[0m",
      "\u001b[0;31mInvalidArgumentError\u001b[0m                      Traceback (most recent call last)",
      "Cell \u001b[0;32mIn[13], line 11\u001b[0m\n\u001b[1;32m      8\u001b[0m model\u001b[39m.\u001b[39mcompile(optimizer\u001b[39m=\u001b[39moptimizer,loss\u001b[39m=\u001b[39mloss_fn)\n\u001b[1;32m     10\u001b[0m \u001b[39m# 4. Model learning\u001b[39;00m\n\u001b[0;32m---> 11\u001b[0m model\u001b[39m.\u001b[39;49mfit(trainX, trainY, epochs\u001b[39m=\u001b[39;49miterations)\n",
      "File \u001b[0;32m~/miniforge3/envs/newenv/lib/python3.12/site-packages/keras/src/utils/traceback_utils.py:122\u001b[0m, in \u001b[0;36mfilter_traceback.<locals>.error_handler\u001b[0;34m(*args, **kwargs)\u001b[0m\n\u001b[1;32m    119\u001b[0m     filtered_tb \u001b[39m=\u001b[39m _process_traceback_frames(e\u001b[39m.\u001b[39m__traceback__)\n\u001b[1;32m    120\u001b[0m     \u001b[39m# To get the full stack trace, call:\u001b[39;00m\n\u001b[1;32m    121\u001b[0m     \u001b[39m# `keras.config.disable_traceback_filtering()`\u001b[39;00m\n\u001b[0;32m--> 122\u001b[0m     \u001b[39mraise\u001b[39;00m e\u001b[39m.\u001b[39mwith_traceback(filtered_tb) \u001b[39mfrom\u001b[39;00m \u001b[39mNone\u001b[39;00m\n\u001b[1;32m    123\u001b[0m \u001b[39mfinally\u001b[39;00m:\n\u001b[1;32m    124\u001b[0m     \u001b[39mdel\u001b[39;00m filtered_tb\n",
      "File \u001b[0;32m~/miniforge3/envs/newenv/lib/python3.12/site-packages/tensorflow/python/eager/execute.py:53\u001b[0m, in \u001b[0;36mquick_execute\u001b[0;34m(op_name, num_outputs, inputs, attrs, ctx, name)\u001b[0m\n\u001b[1;32m     51\u001b[0m \u001b[39mtry\u001b[39;00m:\n\u001b[1;32m     52\u001b[0m   ctx\u001b[39m.\u001b[39mensure_initialized()\n\u001b[0;32m---> 53\u001b[0m   tensors \u001b[39m=\u001b[39m pywrap_tfe\u001b[39m.\u001b[39mTFE_Py_Execute(ctx\u001b[39m.\u001b[39m_handle, device_name, op_name,\n\u001b[1;32m     54\u001b[0m                                       inputs, attrs, num_outputs)\n\u001b[1;32m     55\u001b[0m \u001b[39mexcept\u001b[39;00m core\u001b[39m.\u001b[39m_NotOkStatusException \u001b[39mas\u001b[39;00m e:\n\u001b[1;32m     56\u001b[0m   \u001b[39mif\u001b[39;00m name \u001b[39mis\u001b[39;00m \u001b[39mnot\u001b[39;00m \u001b[39mNone\u001b[39;00m:\n",
      "\u001b[0;31mInvalidArgumentError\u001b[0m: Graph execution error:\n\nDetected at node compile_loss/sparse_categorical_crossentropy/SparseSoftmaxCrossEntropyWithLogits/SparseSoftmaxCrossEntropyWithLogits defined at (most recent call last):\n  File \"<frozen runpy>\", line 198, in _run_module_as_main\n\n  File \"<frozen runpy>\", line 88, in _run_code\n\n  File \"/Users/onseonghyeon/miniforge3/envs/newenv/lib/python3.12/site-packages/ipykernel_launcher.py\", line 18, in <module>\n\n  File \"/Users/onseonghyeon/miniforge3/envs/newenv/lib/python3.12/site-packages/traitlets/config/application.py\", line 1075, in launch_instance\n\n  File \"/Users/onseonghyeon/miniforge3/envs/newenv/lib/python3.12/site-packages/ipykernel/kernelapp.py\", line 739, in start\n\n  File \"/Users/onseonghyeon/miniforge3/envs/newenv/lib/python3.12/site-packages/tornado/platform/asyncio.py\", line 205, in start\n\n  File \"/Users/onseonghyeon/miniforge3/envs/newenv/lib/python3.12/asyncio/base_events.py\", line 641, in run_forever\n\n  File \"/Users/onseonghyeon/miniforge3/envs/newenv/lib/python3.12/asyncio/base_events.py\", line 1986, in _run_once\n\n  File \"/Users/onseonghyeon/miniforge3/envs/newenv/lib/python3.12/asyncio/events.py\", line 88, in _run\n\n  File \"/Users/onseonghyeon/miniforge3/envs/newenv/lib/python3.12/site-packages/ipykernel/kernelbase.py\", line 545, in dispatch_queue\n\n  File \"/Users/onseonghyeon/miniforge3/envs/newenv/lib/python3.12/site-packages/ipykernel/kernelbase.py\", line 534, in process_one\n\n  File \"/Users/onseonghyeon/miniforge3/envs/newenv/lib/python3.12/site-packages/ipykernel/kernelbase.py\", line 437, in dispatch_shell\n\n  File \"/Users/onseonghyeon/miniforge3/envs/newenv/lib/python3.12/site-packages/ipykernel/ipkernel.py\", line 362, in execute_request\n\n  File \"/Users/onseonghyeon/miniforge3/envs/newenv/lib/python3.12/site-packages/ipykernel/kernelbase.py\", line 778, in execute_request\n\n  File \"/Users/onseonghyeon/miniforge3/envs/newenv/lib/python3.12/site-packages/ipykernel/ipkernel.py\", line 449, in do_execute\n\n  File \"/Users/onseonghyeon/miniforge3/envs/newenv/lib/python3.12/site-packages/ipykernel/zmqshell.py\", line 549, in run_cell\n\n  File \"/Users/onseonghyeon/miniforge3/envs/newenv/lib/python3.12/site-packages/IPython/core/interactiveshell.py\", line 3075, in run_cell\n\n  File \"/Users/onseonghyeon/miniforge3/envs/newenv/lib/python3.12/site-packages/IPython/core/interactiveshell.py\", line 3130, in _run_cell\n\n  File \"/Users/onseonghyeon/miniforge3/envs/newenv/lib/python3.12/site-packages/IPython/core/async_helpers.py\", line 128, in _pseudo_sync_runner\n\n  File \"/Users/onseonghyeon/miniforge3/envs/newenv/lib/python3.12/site-packages/IPython/core/interactiveshell.py\", line 3334, in run_cell_async\n\n  File \"/Users/onseonghyeon/miniforge3/envs/newenv/lib/python3.12/site-packages/IPython/core/interactiveshell.py\", line 3517, in run_ast_nodes\n\n  File \"/Users/onseonghyeon/miniforge3/envs/newenv/lib/python3.12/site-packages/IPython/core/interactiveshell.py\", line 3577, in run_code\n\n  File \"/var/folders/6g/96vfd2gn4vz3d6hbd_fqjqy80000gn/T/ipykernel_48452/3546216449.py\", line 11, in <module>\n\n  File \"/Users/onseonghyeon/miniforge3/envs/newenv/lib/python3.12/site-packages/keras/src/utils/traceback_utils.py\", line 117, in error_handler\n\n  File \"/Users/onseonghyeon/miniforge3/envs/newenv/lib/python3.12/site-packages/keras/src/backend/tensorflow/trainer.py\", line 320, in fit\n\n  File \"/Users/onseonghyeon/miniforge3/envs/newenv/lib/python3.12/site-packages/keras/src/backend/tensorflow/trainer.py\", line 121, in one_step_on_iterator\n\n  File \"/Users/onseonghyeon/miniforge3/envs/newenv/lib/python3.12/site-packages/keras/src/backend/tensorflow/trainer.py\", line 108, in one_step_on_data\n\n  File \"/Users/onseonghyeon/miniforge3/envs/newenv/lib/python3.12/site-packages/keras/src/backend/tensorflow/trainer.py\", line 54, in train_step\n\n  File \"/Users/onseonghyeon/miniforge3/envs/newenv/lib/python3.12/site-packages/keras/src/trainers/trainer.py\", line 359, in _compute_loss\n\n  File \"/Users/onseonghyeon/miniforge3/envs/newenv/lib/python3.12/site-packages/keras/src/trainers/trainer.py\", line 327, in compute_loss\n\n  File \"/Users/onseonghyeon/miniforge3/envs/newenv/lib/python3.12/site-packages/keras/src/trainers/compile_utils.py\", line 611, in __call__\n\n  File \"/Users/onseonghyeon/miniforge3/envs/newenv/lib/python3.12/site-packages/keras/src/trainers/compile_utils.py\", line 652, in call\n\n  File \"/Users/onseonghyeon/miniforge3/envs/newenv/lib/python3.12/site-packages/keras/src/losses/loss.py\", line 60, in __call__\n\n  File \"/Users/onseonghyeon/miniforge3/envs/newenv/lib/python3.12/site-packages/keras/src/losses/losses.py\", line 27, in call\n\n  File \"/Users/onseonghyeon/miniforge3/envs/newenv/lib/python3.12/site-packages/keras/src/losses/losses.py\", line 1870, in sparse_categorical_crossentropy\n\n  File \"/Users/onseonghyeon/miniforge3/envs/newenv/lib/python3.12/site-packages/keras/src/ops/nn.py\", line 1559, in sparse_categorical_crossentropy\n\n  File \"/Users/onseonghyeon/miniforge3/envs/newenv/lib/python3.12/site-packages/keras/src/backend/tensorflow/nn.py\", line 671, in sparse_categorical_crossentropy\n\nReceived a label value of 1 which is outside the valid range of [0, 1).  Label values: 1 0 0 0 0 0 0 0 0 0 0 0 0 0 0 0 0 0 0 0 0 0 0 0 0 0 0 0 0 0 0 0\n\t [[{{node compile_loss/sparse_categorical_crossentropy/SparseSoftmaxCrossEntropyWithLogits/SparseSoftmaxCrossEntropyWithLogits}}]] [Op:__inference_one_step_on_iterator_2746]"
     ]
    }
   ],
   "source": [
    "#2. model create\n",
    "model =LSTMModel()\n",
    "# Loss and optimizer\n",
    "loss_fn = tf.keras.losses.SparseCategoricalCrossentropy(from_logits=False)\n",
    "optimizer = tf.keras.optimizers.Adam(learning_rate=learning_rate)\n",
    "\n",
    "#3. model compile\n",
    "model.compile(optimizer=optimizer,loss=loss_fn)\n",
    "\n",
    "# 4. Model learning\n",
    "model.fit(trainX, trainY, epochs=iterations)\n",
    "\n"
   ]
  },
  {
   "cell_type": "code",
   "execution_count": null,
   "metadata": {},
   "outputs": [],
   "source": [
    "# 5. 예측\n",
    "predicted_stock_price = model.predict(testX)\n",
    "\n",
    "# 6. RMSE 계산\n",
    "rmse = np.sqrt(np.mean(np.square(testY - predicted_stock_price)))\n",
    "print(\"RMSE: {}\".format(rmse))\n",
    "\n",
    "# 7. 예측 결과 그래프\n",
    "plt.plot(testY, label='Actual Stock Price')\n",
    "plt.plot(predicted_stock_price, label='Predicted Stock Price')\n",
    "plt.xlabel(\"Time Period\")\n",
    "plt.ylabel(\"Stock Price\")\n",
    "plt.legend()\n",
    "plt.show()"
   ]
  }
 ],
 "metadata": {
  "kernelspec": {
   "display_name": "newenv",
   "language": "python",
   "name": "python3"
  },
  "language_info": {
   "codemirror_mode": {
    "name": "ipython",
    "version": 3
   },
   "file_extension": ".py",
   "mimetype": "text/x-python",
   "name": "python",
   "nbconvert_exporter": "python",
   "pygments_lexer": "ipython3",
   "version": "3.12.5"
  },
  "orig_nbformat": 4
 },
 "nbformat": 4,
 "nbformat_minor": 2
}
