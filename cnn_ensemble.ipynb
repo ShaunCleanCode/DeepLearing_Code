{
 "cells": [
  {
   "cell_type": "code",
   "execution_count": null,
   "metadata": {},
   "outputs": [],
   "source": [
    "import tensorflow as tf\n",
    "from tensorflow.keras import layers, models \n",
    "import numpy as np\n",
    "class SimpleCNN:\n",
    "    def __init__(self, input_shape, num_classes):\n",
    "        self.model=self.build_model(input_shape ,num_classes)\n",
    "        \n",
    "    def build_model(self,input_shape,num_classes):\n",
    "        model =models.Sequential([\n",
    "            layers.Conv2D(32,kernel_size=(3,3),activation='relu',input_shape=input_shape),\n",
    "            layers.MaxPooling2D(pool_size=(2,2)),\n",
    "\n",
    "            layers.Conv2D(64,kernel_size =(3,3),activation='relu'),\n",
    "            layers.MaxPooling2D(pool_size=(2,2)),\n",
    "\n",
    "            layers.Conv2D(128,kernel_size =(3,3),activation='relu'),\n",
    "            layers.MaxPooling2D(pool_size=(2,2)),\n",
    "            layers.Flatten(),\n",
    "            layers.Dense(256,activation='relu'),\n",
    "            layers.Dropout(0.5),\n",
    "            layers.Dense(num_classes,activation='softmax')\n",
    "            \n",
    "            \n",
    "            \n",
    "        ])\n",
    "        model.compile(optimizer='adam',loss='categorical_crossentropy',metrics=['accuracy'])\n",
    "        return model\n",
    "    def train(self,x_train,y_train,epochs=20,batch_size=128,validation_data=None):\n",
    "        self.model.fit(x_train,y_train,epochs=epochs,batch_size=batch_size,validation_data=validation_data)\n",
    "    def predict(self,x):\n",
    "        return self.model.predict(x)\n",
    "    def evaluate(self,x_test,y_test):\n",
    "        return self.model.evaluate(x_test,y_test)\n",
    "    \n"
   ]
  },
  {
   "cell_type": "code",
   "execution_count": null,
   "metadata": {},
   "outputs": [],
   "source": [
    "class CNNEnsemble:\n",
    "    def __init__(self,models):\n",
    "        self.models=models\n",
    "    def predict(self,x):\n",
    "        predictions =np.zeros((x.shape[0],10))\n",
    "        for model in self.models:\n",
    "            predictions+=model.predict(x)\n",
    "        predictions/=len(self.models)\n",
    "        return predictions\n",
    "\n",
    "    def evaluate(self,x_test,y_test):\n",
    "        predictions =self.predict(x_test)\n",
    "        accuracy= np.mean(np.argmax(predictions,axis=1)==np.argmax(y_test,axis=1)\n",
    "                         )\n",
    "        return accuracy"
   ]
  },
  {
   "cell_type": "code",
   "execution_count": null,
   "metadata": {},
   "outputs": [],
   "source": [
    "# CIFAR-10 데이터셋 사용\n",
    "(x_train, y_train), (x_test, y_test) = tf.keras.datasets.cifar10.load_data()\n",
    "\n",
    "# 데이터 전처리\n",
    "x_train, x_test = x_train / 255.0, x_test / 255.0\n",
    "y_train = tf.keras.utils.to_categorical(y_train, 10)\n",
    "y_test = tf.keras.utils.to_categorical(y_test, 10)"
   ]
  },
  {
   "cell_type": "code",
   "execution_count": null,
   "metadata": {},
   "outputs": [],
   "source": [
    "# CNN 모델 여러 개 생성\n",
    "cnn1 = SimpleCNN(input_shape=(32, 32, 3), num_classes=10)\n",
    "cnn2 = SimpleCNN(input_shape=(32, 32, 3), num_classes=10)\n",
    "cnn3 = SimpleCNN(input_shape=(32, 32, 3), num_classes=10)\n",
    "\n",
    "# 각 CNN 모델 훈련\n",
    "cnn1.train(x_train, y_train, epochs=20, validation_data=(x_test, y_test))\n",
    "cnn2.train(x_train, y_train, epochs=20, validation_data=(x_test, y_test))\n",
    "cnn3.train(x_train, y_train, epochs=20, validation_data=(x_test, y_test))\n"
   ]
  },
  {
   "cell_type": "code",
   "execution_count": null,
   "metadata": {},
   "outputs": [],
   "source": [
    "\n",
    "# CNN 앙상블\n",
    "ensemble_model = CNNEnsemble([cnn1, cnn2, cnn3])\n",
    "\n",
    "# 앙상블 평가\n",
    "accuracy = ensemble_model.evaluate(x_test, y_test)\n",
    "print(f'Ensemble Model Accuracy: {accuracy:.4f}')"
   ]
  }
 ],
 "metadata": {
  "kernelspec": {
   "display_name": "newenv",
   "language": "python",
   "name": "python3"
  },
  "language_info": {
   "codemirror_mode": {
    "name": "ipython",
    "version": 3
   },
   "file_extension": ".py",
   "mimetype": "text/x-python",
   "name": "python",
   "nbconvert_exporter": "python",
   "pygments_lexer": "ipython3",
   "version": "3.12.5"
  },
  "orig_nbformat": 4
 },
 "nbformat": 4,
 "nbformat_minor": 2
}
